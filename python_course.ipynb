{
 "cells": [
  {
   "cell_type": "markdown",
   "metadata": {},
   "source": [
    "# Rust-Python Binding Notebook Course"
   ]
  },
  {
   "cell_type": "code",
   "execution_count": 2,
   "metadata": {},
   "outputs": [
    {
     "name": "stdout",
     "output_type": "stream",
     "text": [
      "Requirement already satisfied: opentelemetry-api in /home/peter/miniconda3/lib/python3.10/site-packages (from -r requirements.txt (line 1)) (1.20.0)\n",
      "Requirement already satisfied: opentelemetry-sdk in /home/peter/miniconda3/lib/python3.10/site-packages (from -r requirements.txt (line 2)) (1.20.0)\n",
      "Requirement already satisfied: opentelemetry-exporter-jaeger-thrift in /home/peter/miniconda3/lib/python3.10/site-packages (from -r requirements.txt (line 3)) (1.20.0)\n",
      "Requirement already satisfied: pyarrow in /home/peter/miniconda3/lib/python3.10/site-packages (from -r requirements.txt (line 4)) (13.0.0)\n",
      "Requirement already satisfied: deprecated>=1.2.6 in /home/peter/miniconda3/lib/python3.10/site-packages (from opentelemetry-api->-r requirements.txt (line 1)) (1.2.14)\n",
      "Requirement already satisfied: importlib-metadata<7.0,>=6.0 in /home/peter/miniconda3/lib/python3.10/site-packages (from opentelemetry-api->-r requirements.txt (line 1)) (6.8.0)\n",
      "Requirement already satisfied: opentelemetry-semantic-conventions==0.41b0 in /home/peter/miniconda3/lib/python3.10/site-packages (from opentelemetry-sdk->-r requirements.txt (line 2)) (0.41b0)\n",
      "Requirement already satisfied: typing-extensions>=3.7.4 in /home/peter/miniconda3/lib/python3.10/site-packages (from opentelemetry-sdk->-r requirements.txt (line 2)) (4.8.0)\n",
      "Requirement already satisfied: thrift>=0.10.0 in /home/peter/miniconda3/lib/python3.10/site-packages (from opentelemetry-exporter-jaeger-thrift->-r requirements.txt (line 3)) (0.16.0)\n",
      "Requirement already satisfied: numpy>=1.16.6 in /home/peter/miniconda3/lib/python3.10/site-packages (from pyarrow->-r requirements.txt (line 4)) (1.24.4)\n",
      "Requirement already satisfied: wrapt<2,>=1.10 in /home/peter/miniconda3/lib/python3.10/site-packages (from deprecated>=1.2.6->opentelemetry-api->-r requirements.txt (line 1)) (1.15.0)\n",
      "Requirement already satisfied: zipp>=0.5 in /home/peter/miniconda3/lib/python3.10/site-packages (from importlib-metadata<7.0,>=6.0->opentelemetry-api->-r requirements.txt (line 1)) (3.16.2)\n",
      "Requirement already satisfied: six>=1.7.2 in /home/peter/miniconda3/lib/python3.10/site-packages (from thrift>=0.10.0->opentelemetry-exporter-jaeger-thrift->-r requirements.txt (line 3)) (1.16.0)\n",
      "\n",
      "\u001b[1m[\u001b[0m\u001b[34;49mnotice\u001b[0m\u001b[1;39;49m]\u001b[0m\u001b[39;49m A new release of pip is available: \u001b[0m\u001b[31;49m23.2.1\u001b[0m\u001b[39;49m -> \u001b[0m\u001b[32;49m23.3.1\u001b[0m\n",
      "\u001b[1m[\u001b[0m\u001b[34;49mnotice\u001b[0m\u001b[1;39;49m]\u001b[0m\u001b[39;49m To update, run: \u001b[0m\u001b[32;49mpip install --upgrade pip\u001b[0m\n",
      "Note: you may need to restart the kernel to use updated packages.\n",
      "🔗 Found pyo3 bindings\n",
      "🐍 Found CPython 3.10 at /home/peter/miniconda3/bin/python\n",
      "📡 Using build options features from pyproject.toml\n",
      "\u001b[0m\u001b[0m\u001b[1m\u001b[32m   Compiling\u001b[0m pyo3-build-config v0.19.2\n",
      "\u001b[K\u001b[0m\u001b[0m\u001b[1m\u001b[32m   Compiling\u001b[0m pyo3-ffi v0.19.2========> ] 422/431: pyo3-build-config           \n",
      "\u001b[0m\u001b[0m\u001b[1m\u001b[32m   Compiling\u001b[0m pyo3 v0.19.2\n",
      "\u001b[K\u001b[0m\u001b[0m\u001b[1m\u001b[32m   Compiling\u001b[0m arrow v46.0.0========> ] 428/431: pyo3                           \n",
      "\u001b[K\u001b[0m\u001b[0m\u001b[1m\u001b[32m   Compiling\u001b[0m blogpost_ffi v0.1.0 (/home/peter/Documents/work/blogpost_ffi)    \n",
      "\u001b[K\u001b[0m\u001b[0m\u001b[1m\u001b[32m    Finished\u001b[0m release [optimized] target(s) in 3.46slogpost_ffi                \n",
      "📦 Built wheel for CPython 3.10 to /tmp/.tmp3eYPVU/blogpost_ffi-0.1.0-cp310-cp310-linux_x86_64.whl\n",
      "🛠 Installed blogpost_ffi-0.1.0\n"
     ]
    }
   ],
   "source": [
    "%pip install -r requirements.txt\n",
    "!maturin develop --release"
   ]
  },
  {
   "cell_type": "code",
   "execution_count": 3,
   "metadata": {},
   "outputs": [],
   "source": [
    "import blogpost_ffi\n",
    "import os\n",
    "import pyarrow as pa\n",
    "import time\n",
    "import tracing\n",
    "from opentelemetry.trace.propagation.tracecontext import (\n",
    "    TraceContextTextMapPropagator,\n",
    ")"
   ]
  },
  {
   "cell_type": "code",
   "execution_count": 4,
   "metadata": {},
   "outputs": [],
   "source": [
    "pa.array([])\n",
    "value = [1] * 100_000_000"
   ]
  },
  {
   "cell_type": "code",
   "execution_count": null,
   "metadata": {},
   "outputs": [],
   "source": [
    "# Default implementation\n",
    "\n",
    "print(f\"---Default Implementation---\")\n",
    "\n",
    "start_time = time.time()\n",
    "\n",
    "array = blogpost_ffi.create_list(value)\n",
    "\n",
    "print(f\"default: {time.time() - start_time:.3f}s\")"
   ]
  },
  {
   "cell_type": "code",
   "execution_count": null,
   "metadata": {},
   "outputs": [],
   "source": [
    "# PyBytes Implementation\n",
    "\n",
    "print(f\"---PyBytes Implementation---\")\n",
    "\n",
    "value_bytes = bytes(value)\n",
    "\n",
    "start_time = time.time()\n",
    "\n",
    "array = blogpost_ffi.create_list_bytes(value_bytes)\n",
    "\n",
    "print(f\"bytes: {time.time() - start_time:.3f}s\")\n"
   ]
  },
  {
   "cell_type": "code",
   "execution_count": null,
   "metadata": {},
   "outputs": [],
   "source": [
    "# Arrow Implementation\n",
    "\n",
    "print(f\"---Arrow Implementation---\")\n",
    "\n",
    "value_arrow = pa.array(value, type=pa.uint8())\n",
    "\n",
    "start_time = time.time()\n",
    "\n",
    "array = blogpost_ffi.create_list_arrow(value_arrow)\n",
    "\n",
    "print(f\"arrow: {time.time() - start_time:.3f}s\")"
   ]
  },
  {
   "cell_type": "code",
   "execution_count": null,
   "metadata": {},
   "outputs": [
    {
     "name": "stdout",
     "output_type": "stream",
     "text": [
      "---Eyre error---\n"
     ]
    },
    {
     "ename": "NameError",
     "evalue": "name 'blogpost_ffi' is not defined",
     "output_type": "error",
     "traceback": [
      "\u001b[0;31m---------------------------------------------------------------------------\u001b[0m",
      "\u001b[0;31mNameError\u001b[0m                                 Traceback (most recent call last)",
      "\u001b[1;32m/home/peter/Documents/work/blogpost_ffi/python_course.ipynb Cell 6\u001b[0m line \u001b[0;36m2\n\u001b[1;32m      <a href='vscode-notebook-cell:/home/peter/Documents/work/blogpost_ffi/python_course.ipynb#W5sZmlsZQ%3D%3D?line=8'>9</a>\u001b[0m ERROR_WITHOUT_EYRE \u001b[39m=\u001b[39m \u001b[39m\"\"\"\u001b[39m\n\u001b[1;32m     <a href='vscode-notebook-cell:/home/peter/Documents/work/blogpost_ffi/python_course.ipynb#W5sZmlsZQ%3D%3D?line=9'>10</a>\u001b[0m \u001b[39mthread \u001b[39m\u001b[39m'\u001b[39m\u001b[39m<unnamed>\u001b[39m\u001b[39m'\u001b[39m\u001b[39m panicked at \u001b[39m\u001b[39m'\u001b[39m\u001b[39mcalled `Result::unwrap()` on an `Err` value: PyErr \u001b[39m\u001b[39m{\u001b[39m\u001b[39m type: <class \u001b[39m\u001b[39m'\u001b[39m\u001b[39mTypeError\u001b[39m\u001b[39m'\u001b[39m\u001b[39m>, value: TypeError(\u001b[39m\u001b[39m'\u001b[39m\u001b[39mExpected instance of pyarrow.lib.Array, got builtins.int\u001b[39m\u001b[39m'\u001b[39m\u001b[39m), traceback: None }\u001b[39m\u001b[39m'\u001b[39m\u001b[39m, src/lib.rs:45:62\u001b[39m\n\u001b[1;32m     <a href='vscode-notebook-cell:/home/peter/Documents/work/blogpost_ffi/python_course.ipynb#W5sZmlsZQ%3D%3D?line=10'>11</a>\u001b[0m \u001b[39mnote: run with `RUST_BACKTRACE=1` environment variable to display a backtrace\u001b[39m\n\u001b[0;32m   (...)\u001b[0m\n\u001b[1;32m     <a href='vscode-notebook-cell:/home/peter/Documents/work/blogpost_ffi/python_course.ipynb#W5sZmlsZQ%3D%3D?line=14'>15</a>\u001b[0m \u001b[39mpyo3_runtime.PanicException: called `Result::unwrap()` on an `Err` value: PyErr \u001b[39m\u001b[39m{\u001b[39m\u001b[39m type: <class \u001b[39m\u001b[39m'\u001b[39m\u001b[39mTypeError\u001b[39m\u001b[39m'\u001b[39m\u001b[39m>, value: TypeError(\u001b[39m\u001b[39m'\u001b[39m\u001b[39mExpected instance of pyarrow.lib.Array, got builtins.int\u001b[39m\u001b[39m'\u001b[39m\u001b[39m), traceback: None }\u001b[39m\n\u001b[1;32m     <a href='vscode-notebook-cell:/home/peter/Documents/work/blogpost_ffi/python_course.ipynb#W5sZmlsZQ%3D%3D?line=15'>16</a>\u001b[0m \u001b[39m\"\"\"\u001b[39m\n\u001b[1;32m     <a href='vscode-notebook-cell:/home/peter/Documents/work/blogpost_ffi/python_course.ipynb#W5sZmlsZQ%3D%3D?line=18'>19</a>\u001b[0m \u001b[39m# Eyre result\u001b[39;00m\n\u001b[0;32m---> <a href='vscode-notebook-cell:/home/peter/Documents/work/blogpost_ffi/python_course.ipynb#W5sZmlsZQ%3D%3D?line=19'>20</a>\u001b[0m array \u001b[39m=\u001b[39m blogpost_ffi\u001b[39m.\u001b[39mcreate_list_arrow_eyre(\u001b[39m1\u001b[39m)\n",
      "\u001b[0;31mNameError\u001b[0m: name 'blogpost_ffi' is not defined"
     ]
    }
   ],
   "source": [
    "# Debugging eyre\n",
    "\n",
    "print(f\"---Eyre error---\")\n",
    "\n",
    "# Try:\n",
    "# array = blogpost_ffi.create_list_arrow(1)\n",
    "#\n",
    "## This error panics the whole program and is therefore uncatchable.\n",
    "ERROR_WITHOUT_EYRE = \"\"\"\n",
    "thread '<unnamed>' panicked at 'called `Result::unwrap()` on an `Err` value: PyErr { type: <class 'TypeError'>, value: TypeError('Expected instance of pyarrow.lib.Array, got builtins.int'), traceback: None }', src/lib.rs:45:62\n",
    "note: run with `RUST_BACKTRACE=1` environment variable to display a backtrace\n",
    "Traceback (most recent call last):\n",
    "  File \"/home/peter/Documents/work/blogpost_ffi/test_script.py\", line 79, in <module>\n",
    "    array = blogpost_ffi.create_list_arrow(1)\n",
    "pyo3_runtime.PanicException: called `Result::unwrap()` on an `Err` value: PyErr { type: <class 'TypeError'>, value: TypeError('Expected instance of pyarrow.lib.Array, got builtins.int'), traceback: None }\n",
    "\"\"\"\n",
    "\n",
    "\n",
    "# Eyre result\n",
    "array = blogpost_ffi.create_list_arrow_eyre(1)"
   ]
  },
  {
   "cell_type": "code",
   "execution_count": null,
   "metadata": {},
   "outputs": [],
   "source": [
    "# Eyre default\n",
    "\n",
    "def abc():\n",
    "    assert False, \"I have no idea what is wrong\""
   ]
  },
  {
   "cell_type": "code",
   "execution_count": null,
   "metadata": {},
   "outputs": [],
   "source": [
    "print(f\"---Eyre no traceback---\")\n",
    "\n",
    "array = blogpost_ffi.call_func_eyre(abc)"
   ]
  },
  {
   "cell_type": "code",
   "execution_count": null,
   "metadata": {},
   "outputs": [],
   "source": [
    "# Eyre traceback\n",
    "print(f\"---Eyre traceback---\")\n",
    "\n",
    "array = blogpost_ffi.call_func_eyre_traceback(abc)"
   ]
  },
  {
   "cell_type": "code",
   "execution_count": null,
   "metadata": {},
   "outputs": [],
   "source": [
    "# Unbounded Memory Growth\n",
    "print(f\"-->Open a Memory analyzer\")\n",
    "array = blogpost_ffi.unbounded_memory_growth()"
   ]
  },
  {
   "cell_type": "code",
   "execution_count": null,
   "metadata": {},
   "outputs": [],
   "source": [
    "\n",
    "# Unbounded Memory Growth\n",
    "print(f\"-->Open a Memory analyzer\")\n",
    "array = blogpost_ffi.bounded_memory_growth()"
   ]
  },
  {
   "cell_type": "code",
   "execution_count": null,
   "metadata": {},
   "outputs": [],
   "source": [
    "# GIL Lock\n",
    "print(f\"---GIL Lock---\")\n",
    "\n",
    "array = blogpost_ffi.gil_lock()"
   ]
  },
  {
   "cell_type": "code",
   "execution_count": null,
   "metadata": {},
   "outputs": [],
   "source": [
    "# GIL unlock\n",
    "print(f\"---GIL Lock---\")\n",
    "\n",
    "array = blogpost_ffi.gil_unlock()"
   ]
  },
  {
   "cell_type": "code",
   "execution_count": null,
   "metadata": {},
   "outputs": [
    {
     "name": "stdout",
     "output_type": "stream",
     "text": [
      "ddf9aa05cd69251df39873189b15b25b4f29fe6173c063b2aa1b3478653c3f93\n",
      "docker: Error response from daemon: driver failed programming external connectivity on endpoint stupefied_wu (5d49720e7638c2c2f107cff084c214c9d1f6ddffab801695bfbfa95f091aa8df): Bind for 0.0.0.0:16686 failed: port is already allocated.\n"
     ]
    }
   ],
   "source": [
    "!docker run -d -p6831:6831/udp -p6832:6832/udp -p16686:16686 jaegertracing/all-in-one:latest"
   ]
  },
  {
   "cell_type": "code",
   "execution_count": null,
   "metadata": {},
   "outputs": [],
   "source": [
    "# Global tracing\n",
    "print(f\"---Global tracing---\")\n",
    "\n",
    "def abc(cx):\n",
    "    propagator = TraceContextTextMapPropagator()\n",
    "    context = propagator.extract(carrier=cx)\n",
    "\n",
    "    with tracing.tracer.start_as_current_span(\n",
    "        name=\"Python_span\", context=context\n",
    "    ) as child_span:\n",
    "        child_span.add_event(\"in Python!\")\n",
    "        output = {}\n",
    "        tracing.propagator.inject(output)\n",
    "        time.sleep(2)\n",
    "    return output\n",
    "\n",
    "\n",
    "array = blogpost_ffi.global_tracing(abc)"
   ]
  },
  {
   "cell_type": "code",
   "execution_count": 1,
   "metadata": {},
   "outputs": [
    {
     "name": "stdout",
     "output_type": "stream",
     "text": [
      "\u001b[0m\u001b[1m\u001b[31merror:\u001b[0m\u001b[0m \u001b[0m\u001b[0munexpected argument '\u001b[0m\u001b[0m\u001b[33m--dry-run\u001b[0m\u001b[0m' found\u001b[0m\u001b[0m\n",
      "\u001b[0m\u001b[0m\n",
      "\u001b[0m\u001b[0m  \u001b[0m\u001b[0m\u001b[32mnote: \u001b[0m\u001b[0mto pass '\u001b[0m\u001b[0m\u001b[33m--dry-run\u001b[0m\u001b[0m' as a value, use '\u001b[0m\u001b[0m\u001b[32m-- \u001b[0m\u001b[0m\u001b[32m--dry-run\u001b[0m\u001b[0m'\u001b[0m\u001b[0m\n",
      "\n",
      "\u001b[0m\u001b[0m\u001b[1m\u001b[4mUsage:\u001b[0m\u001b[0m \u001b[0m\u001b[0m\u001b[1mmaturin publish\u001b[0m\u001b[0m [OPTIONS]\u001b[0m\u001b[0m \u001b[0m\u001b[0m[ARGS]...\u001b[0m\u001b[0m\n",
      "\n",
      "For more information, try '\u001b[0m\u001b[0m\u001b[1m--help\u001b[0m\u001b[0m'.\n",
      "\u001b[0m"
     ]
    }
   ],
   "source": [
    "# Distributing the code\n",
    "\n",
    "!maturin publish --non-interactive"
   ]
  },
  {
   "cell_type": "code",
   "execution_count": 4,
   "metadata": {},
   "outputs": [
    {
     "name": "stdout",
     "output_type": "stream",
     "text": [
      "🔗 Found pyo3 bindings\n",
      "# This file is autogenerated by maturin v1.2.3\n",
      "# To update, run\n",
      "#\n",
      "#    maturin generate-ci github --zig --platform all\n",
      "#\n",
      "name: CI\n",
      "\n",
      "on:\n",
      "  push:\n",
      "    branches:\n",
      "      - main\n",
      "      - master\n",
      "    tags:\n",
      "      - '*'\n",
      "  pull_request:\n",
      "  workflow_dispatch:\n",
      "\n",
      "permissions:\n",
      "  contents: read\n",
      "\n",
      "jobs:\n",
      "  linux:\n",
      "    runs-on: ubuntu-latest\n",
      "    strategy:\n",
      "      matrix:\n",
      "        target: [x86_64, x86, aarch64, armv7, s390x, ppc64le]\n",
      "    steps:\n",
      "      - uses: actions/checkout@v3\n",
      "      - uses: actions/setup-python@v4\n",
      "        with:\n",
      "          python-version: '3.10'\n",
      "      - name: Build wheels\n",
      "        uses: PyO3/maturin-action@v1\n",
      "        with:\n",
      "          target: ${{ matrix.target }}\n",
      "          args: --release --out dist --find-interpreter --zig\n",
      "          sccache: 'true'\n",
      "          manylinux: auto\n",
      "      - name: Upload wheels\n",
      "        uses: actions/upload-artifact@v3\n",
      "        with:\n",
      "          name: wheels\n",
      "          path: dist\n",
      "\n",
      "  windows:\n",
      "    runs-on: windows-latest\n",
      "    strategy:\n",
      "      matrix:\n",
      "        target: [x64, x86]\n",
      "    steps:\n",
      "      - uses: actions/checkout@v3\n",
      "      - uses: actions/setup-python@v4\n",
      "        with:\n",
      "          python-version: '3.10'\n",
      "          architecture: ${{ matrix.target }}\n",
      "      - name: Build wheels\n",
      "        uses: PyO3/maturin-action@v1\n",
      "        with:\n",
      "          target: ${{ matrix.target }}\n",
      "          args: --release --out dist --find-interpreter\n",
      "          sccache: 'true'\n",
      "      - name: Upload wheels\n",
      "        uses: actions/upload-artifact@v3\n",
      "        with:\n",
      "          name: wheels\n",
      "          path: dist\n",
      "\n",
      "  macos:\n",
      "    runs-on: macos-latest\n",
      "    strategy:\n",
      "      matrix:\n",
      "        target: [x86_64, aarch64]\n",
      "    steps:\n",
      "      - uses: actions/checkout@v3\n",
      "      - uses: actions/setup-python@v4\n",
      "        with:\n",
      "          python-version: '3.10'\n",
      "      - name: Build wheels\n",
      "        uses: PyO3/maturin-action@v1\n",
      "        with:\n",
      "          target: ${{ matrix.target }}\n",
      "          args: --release --out dist --find-interpreter\n",
      "          sccache: 'true'\n",
      "      - name: Upload wheels\n",
      "        uses: actions/upload-artifact@v3\n",
      "        with:\n",
      "          name: wheels\n",
      "          path: dist\n",
      "\n",
      "  emscripten:\n",
      "    runs-on: ubuntu-latest\n",
      "    steps:\n",
      "      - uses: actions/checkout@v3\n",
      "      - run: pip install pyodide-build\n",
      "      - name: Get Emscripten and Python version info\n",
      "        shell: bash\n",
      "        run: |\n",
      "          echo EMSCRIPTEN_VERSION=$(pyodide config get emscripten_version) >> $GITHUB_ENV\n",
      "          echo PYTHON_VERSION=$(pyodide config get python_version | cut -d '.' -f 1-2) >> $GITHUB_ENV\n",
      "          pip uninstall -y pyodide-build\n",
      "      - uses: mymindstorm/setup-emsdk@v12\n",
      "        with:\n",
      "          version: ${{ env.EMSCRIPTEN_VERSION }}\n",
      "          actions-cache-folder: emsdk-cache\n",
      "      - uses: actions/setup-python@v4\n",
      "        with:\n",
      "          python-version: ${{ env.PYTHON_VERSION }}\n",
      "      - run: pip install pyodide-build\n",
      "      - name: Build wheels\n",
      "        uses: PyO3/maturin-action@v1\n",
      "        with:\n",
      "          target: wasm32-unknown-emscripten\n",
      "          args: --release --out dist -i ${{ env.PYTHON_VERSION }}\n",
      "          sccache: 'true'\n",
      "          rust-toolchain: nightly\n",
      "      - name: Upload wheels\n",
      "        uses: actions/upload-artifact@v3\n",
      "        with:\n",
      "          name: wasm-wheels\n",
      "          path: dist\n",
      "\n",
      "  sdist:\n",
      "    runs-on: ubuntu-latest\n",
      "    steps:\n",
      "      - uses: actions/checkout@v3\n",
      "      - name: Build sdist\n",
      "        uses: PyO3/maturin-action@v1\n",
      "        with:\n",
      "          command: sdist\n",
      "          args: --out dist\n",
      "      - name: Upload sdist\n",
      "        uses: actions/upload-artifact@v3\n",
      "        with:\n",
      "          name: wheels\n",
      "          path: dist\n",
      "\n",
      "  release:\n",
      "    name: Release\n",
      "    runs-on: ubuntu-latest\n",
      "    if: \"startsWith(github.ref, 'refs/tags/')\"\n",
      "    needs: [linux, windows, macos, emscripten, sdist]\n",
      "    permissions:\n",
      "      # Used to upload release artifacts\n",
      "      contents: write\n",
      "    steps:\n",
      "      - uses: actions/download-artifact@v3\n",
      "        with:\n",
      "          name: wheels\n",
      "      - name: Publish to PyPI\n",
      "        uses: PyO3/maturin-action@v1\n",
      "        env:\n",
      "          MATURIN_PYPI_TOKEN: ${{ secrets.PYPI_API_TOKEN }}\n",
      "        with:\n",
      "          command: upload\n",
      "          args: --non-interactive --skip-existing *\n",
      "      - uses: actions/download-artifact@v3\n",
      "        with:\n",
      "          name: wasm-wheels\n",
      "          path: wasm\n",
      "      - name: Upload to GitHub Release\n",
      "        uses: softprops/action-gh-release@v1\n",
      "        with:\n",
      "          files: |\n",
      "            wasm/*.whl\n",
      "          prerelease: ${{ contains(github.ref, 'alpha') || contains(github.ref, 'beta') }}\n"
     ]
    }
   ],
   "source": [
    "!maturin  generate-ci github --zig --platform all                                                       "
   ]
  }
 ],
 "metadata": {
  "kernelspec": {
   "display_name": "base",
   "language": "python",
   "name": "python3"
  },
  "language_info": {
   "codemirror_mode": {
    "name": "ipython",
    "version": 3
   },
   "file_extension": ".py",
   "mimetype": "text/x-python",
   "name": "python",
   "nbconvert_exporter": "python",
   "pygments_lexer": "ipython3",
   "version": "3.10.10"
  }
 },
 "nbformat": 4,
 "nbformat_minor": 2
}
